{
 "cells": [
  {
   "cell_type": "code",
   "execution_count": 133,
   "metadata": {},
   "outputs": [],
   "source": [
    "%matplotlib inline\n",
    "\n",
    "import pandas as pd\n",
    "from scipy.spatial.distance import euclidean"
   ]
  },
  {
   "cell_type": "code",
   "execution_count": 134,
   "metadata": {},
   "outputs": [
    {
     "name": "stdout",
     "output_type": "stream",
     "text": [
      "    best_price  screen_size  memory_size  battery_size\n",
      "0       1690.0         5.00        8.000        2000.0\n",
      "1       1803.0         5.00       16.000        2000.0\n",
      "4       1999.0         5.71       16.000        3000.0\n",
      "5      10865.0         5.80       64.000        3400.0\n",
      "6       3999.0         6.21       32.000        3400.0\n",
      "7       4973.0         6.21       64.000        3400.0\n",
      "8       5100.0         6.21      128.000        3400.0\n",
      "9       4948.0         6.21       64.000        3400.0\n",
      "11      5165.0         6.21       64.000        3400.0\n",
      "12       583.0         1.77        0.004         800.0\n",
      "15       552.0         1.80        0.004         800.0\n",
      "18       663.0         1.80        0.004         800.0\n",
      "20       474.0         1.80        0.004         800.0\n",
      "21       499.0         1.80        0.004         800.0\n",
      "24      5499.0         6.21      128.000        3400.0\n",
      "25      5499.0         6.21      128.000        3400.0\n",
      "29      6584.0         5.45      128.000        3000.0\n",
      "30      5272.0         5.45       64.000        3000.0\n",
      "33      5328.0         5.95       64.000        3500.0\n",
      "34      5328.0         5.95       64.000        3500.0\n"
     ]
    }
   ],
   "source": [
    "phones_df = pd.read_csv(\"phones_data.csv\")\n",
    "columns_to_remove = [\"os\", \"release_date\",\"Unnamed: 0\", \"sellers_amount\", \"popularity\", \"lowest_price\", \"highest_price\"]\n",
    "phones_df = phones_df.drop(columns=columns_to_remove)\n",
    "\n",
    "phones_df = phones_df.dropna()\n",
    "phones_df = phones_df.drop_duplicates(subset=\"model_name\")\n",
    "\n",
    "columns_to_remove = [\"model_name\", \"brand_name\"]\n",
    "cleaned_phones_df = phones_df.drop(columns=columns_to_remove)\n",
    "\n",
    "print(cleaned_phones_df.head(20))"
   ]
  },
  {
   "cell_type": "code",
   "execution_count": 135,
   "metadata": {},
   "outputs": [
    {
     "name": "stdout",
     "output_type": "stream",
     "text": [
      "    best_price  screen_size  memory_size  battery_size\n",
      "0     0.456387     0.001350     0.002160      0.540103\n",
      "1     0.471496     0.001308     0.004184      0.523013\n",
      "4     0.398151     0.001137     0.003187      0.597525\n",
      "5     0.757946     0.000405     0.004465      0.237185\n",
      "6     0.537702     0.000835     0.004303      0.457161\n",
      "7     0.588994     0.000736     0.007580      0.402690\n",
      "8     0.590674     0.000719     0.014825      0.393782\n",
      "9     0.587773     0.000738     0.007603      0.403886\n",
      "11    0.598133     0.000719     0.007412      0.393737\n",
      "12    0.421007     0.001278     0.000003      0.577712\n",
      "15    0.407740     0.001330     0.000003      0.590927\n",
      "18    0.452620     0.001229     0.000003      0.546148\n",
      "20    0.371530     0.001411     0.000003      0.627056\n",
      "21    0.383609     0.001384     0.000003      0.615004\n",
      "24    0.608754     0.000687     0.014170      0.376389\n",
      "25    0.608754     0.000687     0.014170      0.376389\n",
      "29    0.677544     0.000561     0.013172      0.308723\n",
      "30    0.632024     0.000653     0.007673      0.359650\n",
      "33    0.598790     0.000669     0.007193      0.393349\n",
      "34    0.598790     0.000669     0.007193      0.393349\n"
     ]
    }
   ],
   "source": [
    "cleaned_phones_df_norm = cleaned_phones_df.divide(cleaned_phones_df.sum(axis=1), axis=0)\n",
    "print(cleaned_phones_df_norm.head(20))"
   ]
  },
  {
   "cell_type": "code",
   "execution_count": 136,
   "metadata": {},
   "outputs": [
    {
     "name": "stdout",
     "output_type": "stream",
     "text": [
      "       Brand Name                    Model Name  Distance\n",
      "151         Astro             A173 Black/Orange  0.000000\n",
      "323            2E           E280 Dual Sim Black  0.003675\n",
      "207          ERGO           B181 DUAL SIM BLACK  0.003884\n",
      "141         Astro                A144 Black/Red  0.006324\n",
      "152         Astro                    A225 Black  0.007936\n",
      "212          ERGO                    B241 Black  0.012158\n",
      "218     Blackview                  BV1000 Black  0.014658\n",
      "935         Viaan                  V241 (Black)  0.017902\n",
      "333          ERGO         F186 Solace DS Silver  0.018378\n",
      "319            2E  E180 2019 Red (680576170057)  0.020906\n",
      "957  Sigma mobile                  X-TREME IO93  0.023427\n"
     ]
    }
   ],
   "source": [
    "row_data = cleaned_phones_df_norm.iloc[100]\n",
    "\n",
    "distances = cleaned_phones_df_norm.apply(lambda row: euclidean(row_data, row), axis=1)\n",
    "\n",
    "phone_data_df = pd.DataFrame()\n",
    "\n",
    "phone_data_df[\"Brand Name\"] = phones_df[\"brand_name\"]\n",
    "phone_data_df[\"Model Name\"] = phones_df[\"model_name\"]\n",
    "phone_data_df['Distance'] = distances\n",
    "phone_data_df_sorted = phone_data_df.sort_values(by='Distance')\n",
    "\n",
    "print(phone_data_df_sorted.head(11))"
   ]
  },
  {
   "cell_type": "code",
   "execution_count": 137,
   "metadata": {},
   "outputs": [
    {
     "name": "stdout",
     "output_type": "stream",
     "text": [
      "     Brand Name                                         Model Name  Distance\n",
      "722      Google                            Pixel 2 64GB Just Black  0.000000\n",
      "525     Samsung                     Galaxy S8+ SM-G955U 64GB Black  0.003312\n",
      "939          LG              V50 ThinQ 5G 6/128GB Single Sim Black  0.004193\n",
      "675      HUAWEI                               Nova 4 8/128GB Black  0.004364\n",
      "689    Motorola                            One Zoom 4/128GB Purple  0.004371\n",
      "688    Motorola                              One Zoom 4/128GB Grey  0.004371\n",
      "1179      Apple             iPhone 6s Plus 64GB Space Gray (MKU62)  0.004927\n",
      "467     Samsung  Galaxy Note10 Lite SM-N770F Dual 6/128GB Black...  0.007271\n",
      "424     Samsung              Galaxy A71 2020 SM-A715F 8/128GB Blue  0.007570\n",
      "848        OPPO                     Reno 4 Lite 8/128GB Magic Blue  0.007822\n",
      "720      Google                          Pixel 128GB (Quite Black)  0.008027\n"
     ]
    }
   ],
   "source": [
    "row_data = cleaned_phones_df_norm.iloc[570]\n",
    "\n",
    "distances = cleaned_phones_df_norm.apply(lambda row: euclidean(row_data, row), axis=1)\n",
    "\n",
    "phone_data_df = pd.DataFrame()\n",
    "\n",
    "phone_data_df[\"Brand Name\"] = phones_df[\"brand_name\"]\n",
    "phone_data_df[\"Model Name\"] = phones_df[\"model_name\"]\n",
    "phone_data_df['Distance'] = distances\n",
    "phone_data_df_sorted = phone_data_df.sort_values(by='Distance')\n",
    "\n",
    "print(phone_data_df_sorted.head(11))"
   ]
  },
  {
   "cell_type": "code",
   "execution_count": 138,
   "metadata": {},
   "outputs": [
    {
     "name": "stdout",
     "output_type": "stream",
     "text": [
      "    Brand Name                                     Model Name  Distance\n",
      "397    Samsung         Galaxy A30s 4/64GB Green (SM-A307FZGV)  0.000000\n",
      "565      Cubot                    Kingkong mini 3/32GB Yellow  0.000404\n",
      "564      Cubot                       Kingkong mini 3/32GB Red  0.000404\n",
      "34       Meizu                            15 Plus 6/64GB Gray  0.001281\n",
      "33       Meizu                           15 Plus 6/64GB Black  0.001281\n",
      "247  Blackview                           BV9800 6/128Gb Black  0.001818\n",
      "11       Honor                            10 lite 3/64GB Blue  0.001962\n",
      "390    Samsung  Galaxy A20e SM-A202F 3/32GB Black SM-A202FZKD  0.003141\n",
      "847     Xiaomi           Redmi Note 9T 4/64GB Daybreak Purple  0.003249\n",
      "414    Samsung                     Galaxy A6+ 3/32GB Lavender  0.004035\n",
      "638   Motorola                 Moto X (2nd. Gen) (Black) 16GB  0.004378\n"
     ]
    }
   ],
   "source": [
    "row_data = cleaned_phones_df_norm.iloc[299]\n",
    "\n",
    "distances = cleaned_phones_df_norm.apply(lambda row: euclidean(row_data, row), axis=1)\n",
    "\n",
    "phone_data_df = pd.DataFrame()\n",
    "\n",
    "phone_data_df[\"Brand Name\"] = phones_df[\"brand_name\"]\n",
    "phone_data_df[\"Model Name\"] = phones_df[\"model_name\"]\n",
    "phone_data_df['Distance'] = distances\n",
    "phone_data_df_sorted = phone_data_df.sort_values(by='Distance')\n",
    "\n",
    "print(phone_data_df_sorted.head(11))"
   ]
  }
 ],
 "metadata": {
  "kernelspec": {
   "display_name": "Python 3",
   "language": "python",
   "name": "python3"
  },
  "language_info": {
   "codemirror_mode": {
    "name": "ipython",
    "version": 3
   },
   "file_extension": ".py",
   "mimetype": "text/x-python",
   "name": "python",
   "nbconvert_exporter": "python",
   "pygments_lexer": "ipython3",
   "version": "3.12.1"
  }
 },
 "nbformat": 4,
 "nbformat_minor": 2
}
